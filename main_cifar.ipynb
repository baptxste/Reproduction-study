{
 "cells": [
  {
   "cell_type": "code",
   "execution_count": 9,
   "metadata": {},
   "outputs": [
    {
     "name": "stdout",
     "output_type": "stream",
     "text": [
      "The autoreload extension is already loaded. To reload it, use:\n",
      "  %reload_ext autoreload\n",
      "device avaible : cpu\n"
     ]
    }
   ],
   "source": [
    "%load_ext autoreload\n",
    "%autoreload 2\n",
    "import os\n",
    "import json\n",
    "from tqdm import tqdm\n",
    "import torch \n",
    "import torch.nn as nn\n",
    "import models\n",
    "from sklearn.datasets import fetch_openml\n",
    "from sklearn.model_selection import train_test_split\n",
    "import torch\n",
    "from torch.utils.data import Dataset, DataLoader, Subset\n",
    "from torch.optim import Adam\n",
    "from torchvision import datasets, transforms\n",
    "\n",
    "print(f\"device avaible : {'cuda' if torch.cuda.is_available() else 'cpu'}\")"
   ]
  },
  {
   "attachments": {},
   "cell_type": "markdown",
   "metadata": {},
   "source": [
    "# **Dataset**\n",
    "\n",
    "Création de deux datasets distincts : \n",
    "- A contient les images des classes de 0 à 4\n",
    "- B contient les images des classes de 5 à 9 "
   ]
  },
  {
   "cell_type": "code",
   "execution_count": 5,
   "metadata": {},
   "outputs": [
    {
     "name": "stdout",
     "output_type": "stream",
     "text": [
      "Downloading https://www.cs.toronto.edu/~kriz/cifar-10-python.tar.gz to ./data/cifar-10-python.tar.gz\n"
     ]
    },
    {
     "name": "stderr",
     "output_type": "stream",
     "text": [
      "100%|██████████| 170498071/170498071 [00:10<00:00, 16511541.14it/s]\n"
     ]
    },
    {
     "name": "stdout",
     "output_type": "stream",
     "text": [
      "Extracting ./data/cifar-10-python.tar.gz to ./data\n",
      "Files already downloaded and verified\n"
     ]
    }
   ],
   "source": [
    "transform = transforms.Compose([\n",
    "    transforms.ToTensor(), \n",
    "    transforms.Normalize(mean=[0.5, 0.5, 0.5], std=[0.5, 0.5, 0.5])  \n",
    "])\n",
    "\n",
    "cifar10 = datasets.CIFAR10(root='./data', train=True, download=True, transform=transform)\n",
    "cifar10_test = datasets.CIFAR10(root='./data', train=False, download=True, transform=transform)\n",
    "\n",
    "\n",
    "train_set, val_set = train_test_split(list(range(len(cifar10))), test_size=0.2, random_state=42)\n",
    "\n",
    "def create_subset(dataset, indices, class_range):\n",
    "    subset_indices = [i for i in indices if dataset.targets[i] in class_range]\n",
    "    return Subset(dataset, subset_indices)\n",
    "\n",
    "train_set_A = create_subset(cifar10, train_set, range(0, 5))\n",
    "train_set_B = create_subset(cifar10, train_set, range(5, 10))\n",
    "\n",
    "val_set_A = create_subset(cifar10, val_set, range(0, 5))\n",
    "val_set_B = create_subset(cifar10, val_set, range(5, 10))\n",
    "\n",
    "\n",
    "train_loader_A = DataLoader(train_set_A, batch_size=64, shuffle=True)\n",
    "train_loader_B = DataLoader(train_set_B, batch_size=64, shuffle=True)\n",
    "\n",
    "val_loader_A = DataLoader(val_set_A, batch_size=64, shuffle=False)\n",
    "val_loader_B = DataLoader(val_set_B, batch_size=64, shuffle=False)\n",
    "\n",
    "test_loader_A = DataLoader(create_subset(cifar10_test, range(len(cifar10_test)), range(0, 5)), batch_size=64, shuffle=False)\n",
    "test_loader_B = DataLoader(create_subset(cifar10_test, range(len(cifar10_test)), range(5, 10)), batch_size=64, shuffle=False)\n"
   ]
  },
  {
   "cell_type": "code",
   "execution_count": 15,
   "metadata": {},
   "outputs": [
    {
     "name": "stdout",
     "output_type": "stream",
     "text": [
      "Entrainement du modèle A\n",
      "\n",
      "Epoch 1, Loss: 1.3890\n",
      "Test set: Avg. loss: 1.1502, Accuracy: 2611/5000 (52.22%)\n",
      "Epoch 2, Loss: 1.0791\n",
      "Test set: Avg. loss: 0.9640, Accuracy: 2975/5000 (59.50%)\n",
      "Test set: Avg. loss: 0.9640, Accuracy: 2975/5000 (59.50%)\n",
      "Epoch 1, Loss: 1.6342\n",
      "Test set: Avg. loss: 1.6131, Accuracy: 1000/5000 (20.00%)\n",
      "Epoch 2, Loss: 1.4119\n",
      "Test set: Avg. loss: 1.2526, Accuracy: 2237/5000 (44.74%)\n",
      "Test set: Avg. loss: 1.2526, Accuracy: 2237/5000 (44.74%)\n",
      "Epoch 1, Loss: 1.3922\n",
      "Test set: Avg. loss: 1.1362, Accuracy: 2501/5000 (50.02%)\n",
      "Epoch 2, Loss: 1.1100\n",
      "Test set: Avg. loss: 1.0200, Accuracy: 2942/5000 (58.84%)\n",
      "Test set: Avg. loss: 1.0200, Accuracy: 2942/5000 (58.84%)\n",
      "Epoch 1, Loss: 1.6360\n",
      "Test set: Avg. loss: 1.6171, Accuracy: 1000/5000 (20.00%)\n",
      "Epoch 2, Loss: 1.2982\n",
      "Test set: Avg. loss: 1.1269, Accuracy: 2546/5000 (50.92%)\n",
      "Test set: Avg. loss: 1.1269, Accuracy: 2546/5000 (50.92%)\n",
      "Epoch 1, Loss: 1.3694\n",
      "Test set: Avg. loss: 1.1274, Accuracy: 2604/5000 (52.08%)\n"
     ]
    },
    {
     "ename": "KeyboardInterrupt",
     "evalue": "",
     "output_type": "error",
     "traceback": [
      "\u001b[0;31m---------------------------------------------------------------------------\u001b[0m",
      "\u001b[0;31mKeyboardInterrupt\u001b[0m                         Traceback (most recent call last)",
      "Cell \u001b[0;32mIn[15], line 11\u001b[0m\n\u001b[1;32m      9\u001b[0m     modelA \u001b[39m=\u001b[39m models\u001b[39m.\u001b[39mCNN_cifar()\n\u001b[1;32m     10\u001b[0m     optimizerA \u001b[39m=\u001b[39m Adam(modelA\u001b[39m.\u001b[39mparameters())\n\u001b[0;32m---> 11\u001b[0m     modelA\u001b[39m.\u001b[39;49mtrain_model(train_loader_A,test_loader_A, loss_fn, n_epochs\u001b[39m=\u001b[39;49m\u001b[39m2\u001b[39;49m, optimizer\u001b[39m=\u001b[39;49moptimizerA)\n\u001b[1;32m     12\u001b[0m     resA\u001b[39m.\u001b[39mappend(modelA\u001b[39m.\u001b[39mtest(test_loader_A))\n\u001b[1;32m     13\u001b[0m torch\u001b[39m.\u001b[39msave(modelA, \u001b[39m\"\u001b[39m\u001b[39m./models_cifar/baseA.torch\u001b[39m\u001b[39m\"\u001b[39m)\n",
      "File \u001b[0;32m~/projects/cours/RenfortIA/models.py:123\u001b[0m, in \u001b[0;36mCNN_cifar.train_model\u001b[0;34m(self, trainloader, test_loader, loss_fn, n_epochs, optimizer)\u001b[0m\n\u001b[1;32m    121\u001b[0m outputs \u001b[39m=\u001b[39m \u001b[39mself\u001b[39m(inputs)\n\u001b[1;32m    122\u001b[0m loss \u001b[39m=\u001b[39m loss_fn(outputs, targets)\n\u001b[0;32m--> 123\u001b[0m loss\u001b[39m.\u001b[39;49mbackward()\n\u001b[1;32m    124\u001b[0m optimizer\u001b[39m.\u001b[39mstep()\n\u001b[1;32m    125\u001b[0m running_loss \u001b[39m+\u001b[39m\u001b[39m=\u001b[39m loss\u001b[39m.\u001b[39mitem()\n",
      "File \u001b[0;32m~/.local/lib/python3.10/site-packages/torch/_tensor.py:522\u001b[0m, in \u001b[0;36mTensor.backward\u001b[0;34m(self, gradient, retain_graph, create_graph, inputs)\u001b[0m\n\u001b[1;32m    512\u001b[0m \u001b[39mif\u001b[39;00m has_torch_function_unary(\u001b[39mself\u001b[39m):\n\u001b[1;32m    513\u001b[0m     \u001b[39mreturn\u001b[39;00m handle_torch_function(\n\u001b[1;32m    514\u001b[0m         Tensor\u001b[39m.\u001b[39mbackward,\n\u001b[1;32m    515\u001b[0m         (\u001b[39mself\u001b[39m,),\n\u001b[0;32m   (...)\u001b[0m\n\u001b[1;32m    520\u001b[0m         inputs\u001b[39m=\u001b[39minputs,\n\u001b[1;32m    521\u001b[0m     )\n\u001b[0;32m--> 522\u001b[0m torch\u001b[39m.\u001b[39;49mautograd\u001b[39m.\u001b[39;49mbackward(\n\u001b[1;32m    523\u001b[0m     \u001b[39mself\u001b[39;49m, gradient, retain_graph, create_graph, inputs\u001b[39m=\u001b[39;49minputs\n\u001b[1;32m    524\u001b[0m )\n",
      "File \u001b[0;32m~/.local/lib/python3.10/site-packages/torch/autograd/__init__.py:266\u001b[0m, in \u001b[0;36mbackward\u001b[0;34m(tensors, grad_tensors, retain_graph, create_graph, grad_variables, inputs)\u001b[0m\n\u001b[1;32m    261\u001b[0m     retain_graph \u001b[39m=\u001b[39m create_graph\n\u001b[1;32m    263\u001b[0m \u001b[39m# The reason we repeat the same comment below is that\u001b[39;00m\n\u001b[1;32m    264\u001b[0m \u001b[39m# some Python versions print out the first line of a multi-line function\u001b[39;00m\n\u001b[1;32m    265\u001b[0m \u001b[39m# calls in the traceback and some print out the last line\u001b[39;00m\n\u001b[0;32m--> 266\u001b[0m Variable\u001b[39m.\u001b[39;49m_execution_engine\u001b[39m.\u001b[39;49mrun_backward(  \u001b[39m# Calls into the C++ engine to run the backward pass\u001b[39;49;00m\n\u001b[1;32m    267\u001b[0m     tensors,\n\u001b[1;32m    268\u001b[0m     grad_tensors_,\n\u001b[1;32m    269\u001b[0m     retain_graph,\n\u001b[1;32m    270\u001b[0m     create_graph,\n\u001b[1;32m    271\u001b[0m     inputs,\n\u001b[1;32m    272\u001b[0m     allow_unreachable\u001b[39m=\u001b[39;49m\u001b[39mTrue\u001b[39;49;00m,\n\u001b[1;32m    273\u001b[0m     accumulate_grad\u001b[39m=\u001b[39;49m\u001b[39mTrue\u001b[39;49;00m,\n\u001b[1;32m    274\u001b[0m )\n",
      "\u001b[0;31mKeyboardInterrupt\u001b[0m: "
     ]
    }
   ],
   "source": [
    "loss_fn = nn.CrossEntropyLoss()\n",
    "path = \"./resultats_cifar/\"\n",
    "\n",
    "resA  = []\n",
    "resB = []\n",
    "print(\"Entrainement du modèle A\")\n",
    "print()\n",
    "for _ in range(10): \n",
    "    modelA = models.CNN_cifar()\n",
    "    optimizerA = Adam(modelA.parameters())\n",
    "    modelA.train_model(train_loader_A,test_loader_A, loss_fn, n_epochs=2, optimizer=optimizerA)\n",
    "    resA.append(modelA.test(test_loader_A))\n",
    "torch.save(modelA, \"./models_cifar/baseA.torch\")\n",
    "\n",
    "print()\n",
    "print(\"Entrainement du modèle B\")\n",
    "print()\n",
    "for _ in range(10): \n",
    "    modelB = models.CNN_cifar()\n",
    "    optimizerB= Adam(modelB.parameters())\n",
    "    modelB.train_model(train_loader_B,test_loader_B, loss_fn, n_epochs=2, optimizer=optimizerB)\n",
    "    resB.append(modelB.test(test_loader_B))\n",
    "torch.save(modelB, \"./models_cifar/baseB.torch\")\n",
    "\n",
    "with open(os.path.join(path, \"base.json\"), 'a') as file:\n",
    "        json.dump({\"model A\" : resA}, file)\n",
    "        json.dump({\"model B\" : resB}, file)"
   ]
  }
 ],
 "metadata": {
  "kernelspec": {
   "display_name": "Python 3",
   "language": "python",
   "name": "python3"
  },
  "language_info": {
   "codemirror_mode": {
    "name": "ipython",
    "version": 3
   },
   "file_extension": ".py",
   "mimetype": "text/x-python",
   "name": "python",
   "nbconvert_exporter": "python",
   "pygments_lexer": "ipython3",
   "version": "3.10.14"
  },
  "orig_nbformat": 4
 },
 "nbformat": 4,
 "nbformat_minor": 2
}
